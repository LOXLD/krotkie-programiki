{
 "cells": [
  {
   "cell_type": "markdown",
   "metadata": {},
   "source": [
    "# zadanie 1\n",
    "#### calculate & print the value of function y = 2x^2 + 2x + 2 for x=[56, 57, ... 100] "
   ]
  },
  {
   "cell_type": "code",
   "execution_count": null,
   "metadata": {},
   "outputs": [],
   "source": [
    "from numpy import *\n",
    "\n",
    "x=arange(56,101)\n",
    "odp=[]\n",
    "for i in range(x.size):\n",
    "    y = 2*x[i]**2 + 2*x[i] + 2\n",
    "    print('dla',x[i],'wartość y =',y)\n",
    "    odp.append(y)"
   ]
  },
  {
   "cell_type": "markdown",
   "metadata": {},
   "source": [
    "# zadanie 2\n",
    "#### ask the user for a number and print its factorial "
   ]
  },
  {
   "cell_type": "code",
   "execution_count": null,
   "metadata": {},
   "outputs": [],
   "source": [
    "n=int(input('Z jakiej liczby chcesz obliczyc silnię?: '))\n",
    "\n",
    "def silnia(x):\n",
    "    a=1\n",
    "    i=0\n",
    "    while i!=x:\n",
    "        i+=1\n",
    "        a=a*i\n",
    "    return a\n",
    "print('\\n')\n",
    "print('silnia z',n,'to',silnia(n))"
   ]
  },
  {
   "cell_type": "markdown",
   "metadata": {},
   "source": [
    "\n",
    "# zadanie 3\n",
    "#### write a function which takes an array of numbers as an input and finds the lowest value. Return the index of that element and its value"
   ]
  },
  {
   "cell_type": "code",
   "execution_count": null,
   "metadata": {},
   "outputs": [],
   "source": [
    "from numpy import *\n",
    "g=int(input('jak długa ma być lista? '))\n",
    "lista=[]\n",
    "for i in range(g):\n",
    "    n=int(input('wprowadź liczbę: '))\n",
    "    lista.append(n)\n",
    "lista=array(lista)\n",
    "print('\\n')\n",
    "print(lista)\n",
    "print('\\n')\n",
    "\n",
    "print('najmniejsza wartość z wprowadzonej listy to ',min(lista))\n",
    "print('stojąca na pozycji',argmin(lista))"
   ]
  },
  {
   "cell_type": "code",
   "execution_count": null,
   "metadata": {},
   "outputs": [],
   "source": [
    "# wersja 2\n",
    "g=int(input('jak długa ma być lista: '))\n",
    "lista=[]\n",
    "for i in range(g):\n",
    "    n=int(input('wprowadź liczbę: '))\n",
    "    lista.append(n)\n",
    "\n",
    "\n",
    "mini=lista[0]\n",
    "\n",
    "for i in range(len(lista)-1):\n",
    "    if mini>lista[i+1]:\n",
    "        mini=lista[i+1]\n",
    "        index=i+1\n",
    "        \n",
    "print('\\n','lista:',lista,'\\n')\n",
    "print('najmniejsza wartość z wprowadzonej listy to ',mini)\n",
    "print('stojąca na pozycji',index)"
   ]
  },
  {
   "cell_type": "markdown",
   "metadata": {},
   "source": [
    "# zadanie 4\n",
    "#### Looking at lab1-input and lab1-plot files create your own python script that takes a number and returns any chart of a given length. the length of a chart is the input to your script. The output is a plot (it doesn't matter if it's a y=x or y=e^x+2x or y=|x| function, use your imagination) test your solution properly. Look how it behaves given different input values. (1p)"
   ]
  },
  {
   "cell_type": "code",
   "execution_count": null,
   "metadata": {},
   "outputs": [],
   "source": [
    "from numpy import *\n",
    "from matplotlib.pyplot import *\n",
    "\n",
    "print('Witaj w mojej funkcji sinusa, wprowadz wartości aby zobaczyc wykres, możesz kierować się proponowanymi wartościami...\\n')\n",
    "długość=int(input('podaj długość fukcji sinus x*pi: '))\n",
    "czestotliwosc=int(input('podaj wartość czestotliwości fukcji sinus(proponowana wartość to +7 by uzyskać większa dokładność): '))\n",
    "\n",
    "\n",
    "x=linspace(0,pi*długość,czestotliwosc)\n",
    "figure(1, figsize=(20,6))\n",
    "plot(sin(x),'c',lw=10)\n",
    "plot(sin(x),'ro',ms=7)\n",
    "show()\n",
    "print('pamietaj że parametry fukcji możesz dowolnie modyfikować')"
   ]
  },
  {
   "cell_type": "code",
   "execution_count": null,
   "metadata": {},
   "outputs": [],
   "source": [
    "sobota 7:30 drapała programowanie"
   ]
  },
  {
   "cell_type": "code",
   "execution_count": null,
   "metadata": {},
   "outputs": [],
   "source": []
  }
 ],
 "metadata": {
  "kernelspec": {
   "display_name": "Python 3",
   "language": "python",
   "name": "python3"
  },
  "language_info": {
   "codemirror_mode": {
    "name": "ipython",
    "version": 3
   },
   "file_extension": ".py",
   "mimetype": "text/x-python",
   "name": "python",
   "nbconvert_exporter": "python",
   "pygments_lexer": "ipython3",
   "version": "3.7.1"
  }
 },
 "nbformat": 4,
 "nbformat_minor": 2
}
